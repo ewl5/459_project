{
 "cells": [
  {
   "cell_type": "code",
   "execution_count": 13,
   "id": "initial_id",
   "metadata": {
    "ExecuteTime": {
     "end_time": "2025-10-27T20:26:02.316949Z",
     "start_time": "2025-10-27T20:22:15.665192Z"
    },
    "collapsed": true,
    "jupyter": {
     "outputs_hidden": true
    }
   },
   "outputs": [],
   "source": [
    "import pandas as pd\n",
    "import math\n",
    "\n",
    "CITY_DATA_PROJECTED_COLUMNS = ['amenity', 'name', 'landuse', 'latitude', 'longitude', 'leisure', 'highway', 'natural', 'public_transport', 'railway', 'shop', 'tourism']\n",
    "RADIUS = 1.5\n",
    "\n",
    "def getDistanceFromLatLonInKm(lat1: float, lon1: float, lat2: float, lon2: float) -> float:\n",
    "    def deg2rad(deg) -> float:\n",
    "        return deg * (math.pi / 180)\n",
    "    R = 6371 # Radius of the earth in km\n",
    "    dLat = deg2rad(lat2-lat1)\n",
    "    dLon = deg2rad(lon2-lon1)\n",
    "    a = math.sin(dLat/2) * math.sin(dLat/2) + math.cos(deg2rad(lat1)) * math.cos(deg2rad(lat2)) * math.sin(dLon/2) * math.sin(dLon/2)\n",
    "    c = 2 * math.atan2(math.sqrt(a), math.sqrt(1-a))\n",
    "    d = R * c # Distance in km\n",
    "    return d\n",
    "\n",
    "def computeNearest(row, column, df) -> float:\n",
    "    lowest = math.inf\n",
    "    df_masked = df[df[column]]\n",
    "    for lat1, lon2 in zip(df_masked['latitude'], df_masked['longitude']):\n",
    "        distance = getDistanceFromLatLonInKm(row['latitude'], row['longitude'], lat1, lon2)\n",
    "        if distance < lowest:\n",
    "            lowest = distance\n",
    "    return lowest\n",
    "\n",
    "def computeCountWithinRadius(row, column, df, radius) -> float:\n",
    "    count = 0\n",
    "    df_masked = df[df[column]]\n",
    "    for lat1, lon2 in zip(df_masked['latitude'], df_masked['longitude']):\n",
    "        distance = getDistanceFromLatLonInKm(row['latitude'], row['longitude'], lat1, lon2)\n",
    "        if distance <= radius:\n",
    "            count += 1\n",
    "    return count\n",
    "\n",
    "rentDf = pd.read_csv('rentfaster.csv')\n",
    "rentDf = rentDf[rentDf['province'] == 'Alberta']\n",
    "\n",
    "cityDf = pd.read_csv('osm_helper_data_Alberta/Alberta_Canada/Alberta_Canada_all_amenities.csv', usecols=CITY_DATA_PROJECTED_COLUMNS, low_memory=False)\n",
    "\n",
    "cityDf['isSchool'] = cityDf['amenity'].isin(['university', 'school', 'college'])\n",
    "cityDf['isRestaurant'] = cityDf['amenity'].isin(['restaurant', 'cafe', 'bar', 'cafe;fast_food', 'fast_food'])\n",
    "cityDf['isCemetery'] = (cityDf['amenity'] == 'grave_yard') | (cityDf['landuse'] == 'cemetery')\n",
    "cityDf['isPolice'] = cityDf['amenity'] == 'police'\n",
    "cityDf['isHealthCare'] = cityDf['amenity'].isin(['dentist', 'clinic', 'doctors', 'pharmacy', 'hospital'])\n",
    "cityDf['isCommunityCentre'] = cityDf['amenity'].isin(['social_centre', 'social_facility', 'community_centre'])\n",
    "cityDf['isPlaceOfWorship'] = cityDf['amenity'] == 'place_of_worship'\n",
    "cityDf['isLeisure'] = cityDf['leisure'].notna()\n",
    "cityDf['isPublicTransport'] = cityDf['public_transport'].notna() | cityDf['railway'] | cityDf['highway'].isin(['bus_stop', 'bus_stop;street_lamp', 'platform'])\n",
    "cityDf['isShop'] = cityDf['shop'].notna()\n",
    "cityDf['isTourism'] = cityDf['tourism'].notna()\n",
    "\n",
    "cityDf.drop_duplicates(subset=['longitude', 'latitude', 'name', 'isSchool', 'isRestaurant', 'isCemetery', 'isPolice', 'isHealthCare', 'isCommunityCentre', 'isPlaceOfWorship', 'isLeisure', 'isPublicTransport', 'isShop', 'isTourism'], inplace=True)\n",
    "\n",
    "# filter out rows that do not fall into any categories\n",
    "cityDf = cityDf[(cityDf['isSchool'] == True) | (cityDf['isRestaurant'] == True) | (cityDf['isCemetery'] == True) | (cityDf['isPolice'] == True) | (cityDf['isHealthCare'] == True) | (cityDf['isCommunityCentre'] == True) | (cityDf['isPlaceOfWorship'] == True) | (cityDf['isLeisure'] == True) | (cityDf['isPublicTransport'] == True) | (cityDf['isShop'] == True) | (cityDf['isTourism'] == True)]\n",
    "cityDf = cityDf.drop(columns=['amenity', 'name', 'leisure', 'highway', 'natural', 'public_transport', 'railway', 'shop', 'tourism'])\n",
    "\n",
    "# Derive additional features\n",
    "rentDf[\"nearestSchool\"] = rentDf.apply(lambda r: computeNearest(r, \"isSchool\", cityDf), axis=1)\n",
    "rentDf['nearestPolice'] = rentDf.apply(lambda r: computeNearest(r, \"isPolice\", cityDf), axis=1)\n",
    "rentDf['restaurantCount'] = rentDf.apply(lambda r: computeCountWithinRadius(r, \"isRestaurant\", cityDf, RADIUS), axis=1)\n",
    "rentDf['cemeteryCount'] = rentDf.apply(lambda r: computeCountWithinRadius(r, \"isCemetery\", cityDf, RADIUS), axis=1)\n",
    "rentDf['healthCareCount'] = rentDf.apply(lambda r: computeCountWithinRadius(r, \"isHealthCare\", cityDf, RADIUS), axis=1)\n",
    "rentDf['communityCentreCount'] = rentDf.apply(lambda r: computeCountWithinRadius(r, \"isCommunityCentre\", cityDf, RADIUS), axis=1)\n",
    "rentDf['placeOfWorshipCount'] = rentDf.apply(lambda r: computeCountWithinRadius(r, \"isPlaceOfWorship\", cityDf, RADIUS), axis=1)\n",
    "rentDf['leisureCount'] = rentDf.apply(lambda r: computeCountWithinRadius(r, \"isLeisure\", cityDf, RADIUS), axis=1)\n",
    "rentDf['shopCount'] = rentDf.apply(lambda r: computeCountWithinRadius(r, \"isShop\", cityDf, RADIUS), axis=1)\n",
    "rentDf['tourismCount'] = rentDf.apply(lambda r: computeCountWithinRadius(r, \"isTourism\", cityDf, RADIUS), axis=1)\n",
    "\n",
    "rentDf.to_csv(\"datasets/dataset_joined.csv\", index=False)"
   ]
  }
 ],
 "metadata": {
  "kernelspec": {
   "display_name": "pyspark-env",
   "language": "python",
   "name": "pyspark-env"
  },
  "language_info": {
   "codemirror_mode": {
    "name": "ipython",
    "version": 3
   },
   "file_extension": ".py",
   "mimetype": "text/x-python",
   "name": "python",
   "nbconvert_exporter": "python",
   "pygments_lexer": "ipython3",
   "version": "3.12.9"
  }
 },
 "nbformat": 4,
 "nbformat_minor": 5
}
