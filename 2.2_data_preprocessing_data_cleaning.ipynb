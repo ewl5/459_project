{
 "cells": [
  {
   "cell_type": "code",
   "id": "initial_id",
   "metadata": {
    "collapsed": true,
    "ExecuteTime": {
     "end_time": "2025-10-27T21:58:48.006181Z",
     "start_time": "2025-10-27T21:58:47.872082Z"
    }
   },
   "source": [
    "import pandas as pd\n",
    "\n",
    "IRRELEVANT_COLUMNS = ['rentfaster_id', 'address', 'link', 'availability_date', 'province', 'city']\n",
    "LIVING_SPACE_TYPES = ['Apartment', 'Condo Unit', 'Basement', 'House', 'Townhouse', 'Main Floor', 'Room For Rent', 'Duplex', 'Loft', 'Mobile', 'Vacation Home']\n",
    "RENT_PRICE_THRESHOLD = 2000\n",
    "\n",
    "df = pd.read_csv('datasets/dataset_joined.csv')\n",
    "\n",
    "df = df.drop_duplicates()\n",
    "df = df.drop(columns=IRRELEVANT_COLUMNS)\n",
    "df = df[df['type'].isin(LIVING_SPACE_TYPES)] # filter out non-living spaces\n",
    "\n",
    "# feature extraction\n",
    "df['beds'] = df['beds'].replace('Studio', '0')\n",
    "df['beds'] = df['beds'].str.extract(r'(\\d+)') # extract bed count from string\n",
    "\n",
    "df['baths'] = df['baths'].replace('none', 0)\n",
    "\n",
    "df['sq_feet'] = df['sq_feet'].replace(',', '')\n",
    "df['sq_feet'] = df['sq_feet'].str.extract(r'(\\d+)') # extract square footage from string\n",
    "\n",
    "# remove rows with missing data, since we have a lot of data points\n",
    "df = df.dropna()\n",
    "\n",
    "df['beds'] = df['beds'].astype(int)\n",
    "df['baths'] = df['baths'].astype(float)\n",
    "df['cats'] = df['cats'].astype(int)\n",
    "df['dogs'] = df['dogs'].astype(int)\n",
    "df['sq_feet'] = df['sq_feet'].astype(int)\n",
    "df['price'] = df['price'].astype(float)\n",
    "\n",
    "# one-hot encoding on categorical columns\n",
    "categorical_columns = ['lease_term', 'furnishing', 'type', 'smoking']\n",
    "for column in categorical_columns:\n",
    "    one_hot = pd.get_dummies(df[column], prefix=column, dtype=int)\n",
    "    df = df.join(one_hot)\n",
    "df = df.drop(columns=categorical_columns)\n",
    "\n",
    "# z-score standardization on numerical values\n",
    "numerical_columns = ['latitude', 'longitude', 'beds', 'baths', 'sq_feet', 'nearestSchool', 'nearestPolice', 'restaurantCount', 'cemeteryCount', 'healthCareCount', 'communityCentreCount', 'placeOfWorshipCount', 'leisureCount', 'shopCount', 'tourismCount']\n",
    "for column in numerical_columns:\n",
    "    if df[column].std() == 0:\n",
    "        continue\n",
    "    df['{}_standardized'.format(column)] = (df[column] - df[column].mean()) / df[column].std()\n",
    "\n",
    "# convert target variable into class\n",
    "df['price'] = df['price'] >= RENT_PRICE_THRESHOLD\n",
    "df['price'] = df['price'].replace({ True: \">=2000\", False: \"<2000\" })\n",
    "\n",
    "df.to_csv('datasets/dataset_cleaned.csv', index=False)"
   ],
   "outputs": [],
   "execution_count": 137
  },
  {
   "metadata": {},
   "cell_type": "code",
   "outputs": [],
   "execution_count": null,
   "source": "",
   "id": "cabb513c9552fd1f"
  }
 ],
 "metadata": {
  "kernelspec": {
   "display_name": "Python 3",
   "language": "python",
   "name": "python3"
  },
  "language_info": {
   "codemirror_mode": {
    "name": "ipython",
    "version": 2
   },
   "file_extension": ".py",
   "mimetype": "text/x-python",
   "name": "python",
   "nbconvert_exporter": "python",
   "pygments_lexer": "ipython2",
   "version": "2.7.6"
  }
 },
 "nbformat": 4,
 "nbformat_minor": 5
}
